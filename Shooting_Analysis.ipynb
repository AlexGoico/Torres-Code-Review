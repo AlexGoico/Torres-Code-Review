{
 "cells": [
  {
   "cell_type": "code",
   "execution_count": 81,
   "metadata": {
    "_cell_guid": "971b9365-dcad-4280-a77b-debe9ca5b020",
    "_uuid": "06fda9c5231e5aca95c7e429e633536290a167c9"
   },
   "outputs": [],
   "source": [
    "import pandas as pd\n",
    "import matplotlib.pyplot as plt"
   ]
  },
  {
   "cell_type": "code",
   "execution_count": 82,
   "metadata": {},
   "outputs": [
    {
     "data": {
      "text/plain": [
       "Index(['State', 'Date', 'Open/Close Location', 'Fatalities', 'Injured',\n",
       "       'Total victims', 'Weapon Type', 'Mental Health Issues', 'Race',\n",
       "       'Gender', 'Latitude', 'Longitude'],\n",
       "      dtype='object')"
      ]
     },
     "execution_count": 82,
     "metadata": {},
     "output_type": "execute_result"
    }
   ],
   "source": [
    "# Get a sample of the data\n",
    "df = pd.read_csv('MassShootingsPlus4.csv', encoding='ISO-8859-1')\n",
    "df.columns"
   ]
  },
  {
   "cell_type": "code",
   "execution_count": 83,
   "metadata": {},
   "outputs": [
    {
     "data": {
      "text/html": [
       "<div>\n",
       "<style scoped>\n",
       "    .dataframe tbody tr th:only-of-type {\n",
       "        vertical-align: middle;\n",
       "    }\n",
       "\n",
       "    .dataframe tbody tr th {\n",
       "        vertical-align: top;\n",
       "    }\n",
       "\n",
       "    .dataframe thead th {\n",
       "        text-align: right;\n",
       "    }\n",
       "</style>\n",
       "<table border=\"1\" class=\"dataframe\">\n",
       "  <thead>\n",
       "    <tr style=\"text-align: right;\">\n",
       "      <th></th>\n",
       "      <th>State</th>\n",
       "      <th>Date</th>\n",
       "      <th>Open/Close Location</th>\n",
       "      <th>Fatalities</th>\n",
       "      <th>Injured</th>\n",
       "      <th>Total victims</th>\n",
       "      <th>Weapon Type</th>\n",
       "      <th>Mental Health Issues</th>\n",
       "      <th>Race</th>\n",
       "      <th>Gender</th>\n",
       "      <th>Latitude</th>\n",
       "      <th>Longitude</th>\n",
       "    </tr>\n",
       "  </thead>\n",
       "  <tbody>\n",
       "    <tr>\n",
       "      <th>0</th>\n",
       "      <td>Texas</td>\n",
       "      <td>11/5/17</td>\n",
       "      <td>Close</td>\n",
       "      <td>26</td>\n",
       "      <td>20</td>\n",
       "      <td>46</td>\n",
       "      <td>Semi-automatic Rifle</td>\n",
       "      <td>No</td>\n",
       "      <td>White</td>\n",
       "      <td>M</td>\n",
       "      <td>NaN</td>\n",
       "      <td>NaN</td>\n",
       "    </tr>\n",
       "    <tr>\n",
       "      <th>1</th>\n",
       "      <td>Nevada</td>\n",
       "      <td>10/1/17</td>\n",
       "      <td>Open</td>\n",
       "      <td>59</td>\n",
       "      <td>527</td>\n",
       "      <td>585</td>\n",
       "      <td>Semi-automatic Rifle</td>\n",
       "      <td>Unclear</td>\n",
       "      <td>White</td>\n",
       "      <td>M</td>\n",
       "      <td>36.181271</td>\n",
       "      <td>-115.134132</td>\n",
       "    </tr>\n",
       "    <tr>\n",
       "      <th>2</th>\n",
       "      <td>Florida</td>\n",
       "      <td>1/6/17</td>\n",
       "      <td>Close</td>\n",
       "      <td>5</td>\n",
       "      <td>6</td>\n",
       "      <td>11</td>\n",
       "      <td>Semi-automatic, Handgun</td>\n",
       "      <td>Yes</td>\n",
       "      <td>Latino</td>\n",
       "      <td>M</td>\n",
       "      <td>NaN</td>\n",
       "      <td>NaN</td>\n",
       "    </tr>\n",
       "    <tr>\n",
       "      <th>3</th>\n",
       "      <td>Washington</td>\n",
       "      <td>9/23/16</td>\n",
       "      <td>Close</td>\n",
       "      <td>5</td>\n",
       "      <td>0</td>\n",
       "      <td>5</td>\n",
       "      <td>Semi-automatic Rifle</td>\n",
       "      <td>Yes</td>\n",
       "      <td>NaN</td>\n",
       "      <td>M</td>\n",
       "      <td>NaN</td>\n",
       "      <td>NaN</td>\n",
       "    </tr>\n",
       "    <tr>\n",
       "      <th>4</th>\n",
       "      <td>Texas</td>\n",
       "      <td>7/7/16</td>\n",
       "      <td>Open</td>\n",
       "      <td>5</td>\n",
       "      <td>11</td>\n",
       "      <td>16</td>\n",
       "      <td>Semi-automatic Rifle, Semi-automatic Handgun</td>\n",
       "      <td>Unclear</td>\n",
       "      <td>Black</td>\n",
       "      <td>M</td>\n",
       "      <td>NaN</td>\n",
       "      <td>NaN</td>\n",
       "    </tr>\n",
       "  </tbody>\n",
       "</table>\n",
       "</div>"
      ],
      "text/plain": [
       "        State     Date Open/Close Location  Fatalities  Injured  \\\n",
       "0       Texas  11/5/17               Close          26       20   \n",
       "1      Nevada  10/1/17                Open          59      527   \n",
       "2     Florida   1/6/17               Close           5        6   \n",
       "3  Washington  9/23/16               Close           5        0   \n",
       "4       Texas   7/7/16                Open           5       11   \n",
       "\n",
       "   Total victims                                   Weapon Type  \\\n",
       "0             46                          Semi-automatic Rifle   \n",
       "1            585                          Semi-automatic Rifle   \n",
       "2             11                       Semi-automatic, Handgun   \n",
       "3              5                          Semi-automatic Rifle   \n",
       "4             16  Semi-automatic Rifle, Semi-automatic Handgun   \n",
       "\n",
       "  Mental Health Issues    Race Gender   Latitude   Longitude  \n",
       "0                   No   White      M        NaN         NaN  \n",
       "1              Unclear   White      M  36.181271 -115.134132  \n",
       "2                  Yes  Latino      M        NaN         NaN  \n",
       "3                  Yes     NaN      M        NaN         NaN  \n",
       "4              Unclear   Black      M        NaN         NaN  "
      ]
     },
     "execution_count": 83,
     "metadata": {},
     "output_type": "execute_result"
    }
   ],
   "source": [
    "df.head()"
   ]
  },
  {
   "cell_type": "code",
   "execution_count": 95,
   "metadata": {},
   "outputs": [
    {
     "data": {
      "text/html": [
       "<div>\n",
       "<style scoped>\n",
       "    .dataframe tbody tr th:only-of-type {\n",
       "        vertical-align: middle;\n",
       "    }\n",
       "\n",
       "    .dataframe tbody tr th {\n",
       "        vertical-align: top;\n",
       "    }\n",
       "\n",
       "    .dataframe thead th {\n",
       "        text-align: right;\n",
       "    }\n",
       "</style>\n",
       "<table border=\"1\" class=\"dataframe\">\n",
       "  <thead>\n",
       "    <tr style=\"text-align: right;\">\n",
       "      <th></th>\n",
       "      <th>Fatalities</th>\n",
       "      <th>Injured</th>\n",
       "      <th>Total victims</th>\n",
       "      <th>Latitude</th>\n",
       "      <th>Longitude</th>\n",
       "    </tr>\n",
       "  </thead>\n",
       "  <tbody>\n",
       "    <tr>\n",
       "      <th>count</th>\n",
       "      <td>142.000000</td>\n",
       "      <td>142.000000</td>\n",
       "      <td>142.000000</td>\n",
       "      <td>134.000000</td>\n",
       "      <td>134.000000</td>\n",
       "    </tr>\n",
       "    <tr>\n",
       "      <th>mean</th>\n",
       "      <td>7.809859</td>\n",
       "      <td>9.042254</td>\n",
       "      <td>16.274648</td>\n",
       "      <td>37.612493</td>\n",
       "      <td>-97.353912</td>\n",
       "    </tr>\n",
       "    <tr>\n",
       "      <th>std</th>\n",
       "      <td>7.211037</td>\n",
       "      <td>44.854196</td>\n",
       "      <td>50.049641</td>\n",
       "      <td>5.719468</td>\n",
       "      <td>17.171211</td>\n",
       "    </tr>\n",
       "    <tr>\n",
       "      <th>min</th>\n",
       "      <td>4.000000</td>\n",
       "      <td>0.000000</td>\n",
       "      <td>3.000000</td>\n",
       "      <td>21.325512</td>\n",
       "      <td>-157.847306</td>\n",
       "    </tr>\n",
       "    <tr>\n",
       "      <th>25%</th>\n",
       "      <td>5.000000</td>\n",
       "      <td>0.000000</td>\n",
       "      <td>5.000000</td>\n",
       "      <td>33.533618</td>\n",
       "      <td>-112.572321</td>\n",
       "    </tr>\n",
       "    <tr>\n",
       "      <th>50%</th>\n",
       "      <td>6.000000</td>\n",
       "      <td>2.000000</td>\n",
       "      <td>7.000000</td>\n",
       "      <td>37.779480</td>\n",
       "      <td>-95.186464</td>\n",
       "    </tr>\n",
       "    <tr>\n",
       "      <th>75%</th>\n",
       "      <td>8.000000</td>\n",
       "      <td>5.750000</td>\n",
       "      <td>14.000000</td>\n",
       "      <td>41.823443</td>\n",
       "      <td>-83.382586</td>\n",
       "    </tr>\n",
       "    <tr>\n",
       "      <th>max</th>\n",
       "      <td>59.000000</td>\n",
       "      <td>527.000000</td>\n",
       "      <td>585.000000</td>\n",
       "      <td>48.048024</td>\n",
       "      <td>-69.707823</td>\n",
       "    </tr>\n",
       "  </tbody>\n",
       "</table>\n",
       "</div>"
      ],
      "text/plain": [
       "       Fatalities     Injured  Total victims    Latitude   Longitude\n",
       "count  142.000000  142.000000     142.000000  134.000000  134.000000\n",
       "mean     7.809859    9.042254      16.274648   37.612493  -97.353912\n",
       "std      7.211037   44.854196      50.049641    5.719468   17.171211\n",
       "min      4.000000    0.000000       3.000000   21.325512 -157.847306\n",
       "25%      5.000000    0.000000       5.000000   33.533618 -112.572321\n",
       "50%      6.000000    2.000000       7.000000   37.779480  -95.186464\n",
       "75%      8.000000    5.750000      14.000000   41.823443  -83.382586\n",
       "max     59.000000  527.000000     585.000000   48.048024  -69.707823"
      ]
     },
     "execution_count": 95,
     "metadata": {},
     "output_type": "execute_result"
    }
   ],
   "source": [
    "df.describe()"
   ]
  },
  {
   "cell_type": "markdown",
   "metadata": {},
   "source": [
    "# Terms\n",
    "* **Open** setting location are defined as an unsecure location such as Fields, park, highway\n",
    "* **Close** setting location is defined as a location in which pyhsical barriers are present, ex. Home, school, work-center"
   ]
  },
  {
   "cell_type": "code",
   "execution_count": 201,
   "metadata": {},
   "outputs": [
    {
     "data": {
      "text/html": [
       "<div>\n",
       "<style scoped>\n",
       "    .dataframe tbody tr th:only-of-type {\n",
       "        vertical-align: middle;\n",
       "    }\n",
       "\n",
       "    .dataframe tbody tr th {\n",
       "        vertical-align: top;\n",
       "    }\n",
       "\n",
       "    .dataframe thead th {\n",
       "        text-align: right;\n",
       "    }\n",
       "</style>\n",
       "<table border=\"1\" class=\"dataframe\">\n",
       "  <thead>\n",
       "    <tr style=\"text-align: right;\">\n",
       "      <th></th>\n",
       "      <th>Counts</th>\n",
       "    </tr>\n",
       "    <tr>\n",
       "      <th>Open/Close Location</th>\n",
       "      <th></th>\n",
       "    </tr>\n",
       "  </thead>\n",
       "  <tbody>\n",
       "    <tr>\n",
       "      <th>Close</th>\n",
       "      <td>110</td>\n",
       "    </tr>\n",
       "    <tr>\n",
       "      <th>Open</th>\n",
       "      <td>14</td>\n",
       "    </tr>\n",
       "    <tr>\n",
       "      <th>Open+Close</th>\n",
       "      <td>18</td>\n",
       "    </tr>\n",
       "    <tr>\n",
       "      <th>Total</th>\n",
       "      <td>142</td>\n",
       "    </tr>\n",
       "  </tbody>\n",
       "</table>\n",
       "</div>"
      ],
      "text/plain": [
       "                     Counts\n",
       "Open/Close Location        \n",
       "Close                   110\n",
       "Open                     14\n",
       "Open+Close               18\n",
       "Total                   142"
      ]
     },
     "execution_count": 201,
     "metadata": {},
     "output_type": "execute_result"
    }
   ],
   "source": [
    "oc_locs = df.groupby('Open/Close Location').count()['State']\n",
    "oc_locs['Total'] = oc_locs.sum()\n",
    "oc_locs.rename('Counts').to_frame() # You can use to_frame as a way to pretty print a Series as a table"
   ]
  },
  {
   "cell_type": "code",
   "execution_count": 188,
   "metadata": {},
   "outputs": [
    {
     "data": {
      "text/plain": [
       "<matplotlib.axes._subplots.AxesSubplot at 0x1111fff60>"
      ]
     },
     "execution_count": 188,
     "metadata": {},
     "output_type": "execute_result"
    },
    {
     "data": {
      "image/png": "[encoded data removed]",
      "text/plain": [
       "<matplotlib.figure.Figure at 0x11193b6d8>"
      ]
     },
     "metadata": {},
     "output_type": "display_data"
    }
   ],
   "source": [
    "oc_locs.plot.bar(title='Location Setting of Mass Shootings', rot=0)\n",
    "\n",
    "# xs= [i + 0.1 for i, _ in enumerate(oc_locs)]\n",
    "# plt.bar(xs, oc_locs)\n",
    "# plt.title('Location Setting of Mass Shootings')\n",
    "# plt.xticks([i + .2 for i, _ in enumerate(oc_locs)], oc_locs.index)\n",
    "# plt.show()"
   ]
  },
  {
   "cell_type": "code",
   "execution_count": 228,
   "metadata": {
    "_cell_guid": "67293992-9e20-4cc8-9f5f-99c65b48fab5",
    "_uuid": "cf17a3cbd4792bf703d5d8493c929210b159b77a"
   },
   "outputs": [
    {
     "data": {
      "text/html": [
       "<div>\n",
       "<style scoped>\n",
       "    .dataframe tbody tr th:only-of-type {\n",
       "        vertical-align: middle;\n",
       "    }\n",
       "\n",
       "    .dataframe tbody tr th {\n",
       "        vertical-align: top;\n",
       "    }\n",
       "\n",
       "    .dataframe thead th {\n",
       "        text-align: right;\n",
       "    }\n",
       "</style>\n",
       "<table border=\"1\" class=\"dataframe\">\n",
       "  <thead>\n",
       "    <tr style=\"text-align: right;\">\n",
       "      <th></th>\n",
       "      <th>Weapon Type</th>\n",
       "    </tr>\n",
       "  </thead>\n",
       "  <tbody>\n",
       "    <tr>\n",
       "      <th>Semi-automatic Handgun</th>\n",
       "      <td>34</td>\n",
       "    </tr>\n",
       "    <tr>\n",
       "      <th>Unknown</th>\n",
       "      <td>20</td>\n",
       "    </tr>\n",
       "    <tr>\n",
       "      <th>Handgun</th>\n",
       "      <td>18</td>\n",
       "    </tr>\n",
       "    <tr>\n",
       "      <th>Semi-automatic Rifle</th>\n",
       "      <td>13</td>\n",
       "    </tr>\n",
       "    <tr>\n",
       "      <th>Semi-automatic Handgun, Handgun</th>\n",
       "      <td>8</td>\n",
       "    </tr>\n",
       "    <tr>\n",
       "      <th>Semi-automatic Rifle, Semi-automatic Handgun</th>\n",
       "      <td>8</td>\n",
       "    </tr>\n",
       "    <tr>\n",
       "      <th>Semi-automatic Rifle, Semi-automatic Handgun, Shotgun</th>\n",
       "      <td>6</td>\n",
       "    </tr>\n",
       "    <tr>\n",
       "      <th>Shotgun</th>\n",
       "      <td>4</td>\n",
       "    </tr>\n",
       "    <tr>\n",
       "      <th>Semi-automatic Rifle, Handgun</th>\n",
       "      <td>3</td>\n",
       "    </tr>\n",
       "    <tr>\n",
       "      <th>Rifle, Shotgun</th>\n",
       "      <td>3</td>\n",
       "    </tr>\n",
       "    <tr>\n",
       "      <th>Semi-automatic Handgun, Shotgun</th>\n",
       "      <td>3</td>\n",
       "    </tr>\n",
       "    <tr>\n",
       "      <th>Handgun, Shotgun</th>\n",
       "      <td>3</td>\n",
       "    </tr>\n",
       "    <tr>\n",
       "      <th>Rifle, Handgun, Shotgun</th>\n",
       "      <td>2</td>\n",
       "    </tr>\n",
       "    <tr>\n",
       "      <th>Semi-automatic Handgun, Knife</th>\n",
       "      <td>2</td>\n",
       "    </tr>\n",
       "    <tr>\n",
       "      <th>Semi-automatic Rifle, Handgun, Shotgun</th>\n",
       "      <td>2</td>\n",
       "    </tr>\n",
       "    <tr>\n",
       "      <th>Semi-automatic, Handgun</th>\n",
       "      <td>1</td>\n",
       "    </tr>\n",
       "    <tr>\n",
       "      <th>Rifle, Shotgun, Knife</th>\n",
       "      <td>1</td>\n",
       "    </tr>\n",
       "    <tr>\n",
       "      <th>Semi-automatic Handgun, Semi-automatic Rifle</th>\n",
       "      <td>1</td>\n",
       "    </tr>\n",
       "    <tr>\n",
       "      <th>Shotgun, Handgun</th>\n",
       "      <td>1</td>\n",
       "    </tr>\n",
       "    <tr>\n",
       "      <th>Semi-automatic Handgun, flame thrower</th>\n",
       "      <td>1</td>\n",
       "    </tr>\n",
       "    <tr>\n",
       "      <th>Semi-automatic Handgun, Rifle, Handgun</th>\n",
       "      <td>1</td>\n",
       "    </tr>\n",
       "    <tr>\n",
       "      <th>Semi-automatic Handgun, Rifle</th>\n",
       "      <td>1</td>\n",
       "    </tr>\n",
       "    <tr>\n",
       "      <th>Rifle, Handgun</th>\n",
       "      <td>1</td>\n",
       "    </tr>\n",
       "    <tr>\n",
       "      <th>Semi-automatic Rifle, Semi-automatic Handgun, Handgun</th>\n",
       "      <td>1</td>\n",
       "    </tr>\n",
       "    <tr>\n",
       "      <th>Semi-automatic Handgun, Rifle, Handgun, Shotgun</th>\n",
       "      <td>1</td>\n",
       "    </tr>\n",
       "    <tr>\n",
       "      <th>Semi-automatic Handgun, Rifle, Shotgun</th>\n",
       "      <td>1</td>\n",
       "    </tr>\n",
       "    <tr>\n",
       "      <th>Semi-automatic Handgun, Handgun, Shotgun</th>\n",
       "      <td>1</td>\n",
       "    </tr>\n",
       "    <tr>\n",
       "      <th>Semi-automatic Rifle, Semi-automatic Handgun, Handgun, Shotgun</th>\n",
       "      <td>1</td>\n",
       "    </tr>\n",
       "  </tbody>\n",
       "</table>\n",
       "</div>"
      ],
      "text/plain": [
       "                                                    Weapon Type\n",
       "Semi-automatic Handgun                                       34\n",
       "Unknown                                                      20\n",
       "Handgun                                                      18\n",
       "Semi-automatic Rifle                                         13\n",
       "Semi-automatic Handgun, Handgun                               8\n",
       "Semi-automatic Rifle, Semi-automatic Handgun                  8\n",
       "Semi-automatic Rifle, Semi-automatic Handgun, S...            6\n",
       "Shotgun                                                       4\n",
       "Semi-automatic Rifle, Handgun                                 3\n",
       "Rifle, Shotgun                                                3\n",
       "Semi-automatic Handgun, Shotgun                               3\n",
       "Handgun, Shotgun                                              3\n",
       "Rifle, Handgun, Shotgun                                       2\n",
       "Semi-automatic Handgun, Knife                                 2\n",
       "Semi-automatic Rifle, Handgun, Shotgun                        2\n",
       "Semi-automatic, Handgun                                       1\n",
       "Rifle, Shotgun, Knife                                         1\n",
       "Semi-automatic Handgun, Semi-automatic Rifle                  1\n",
       "Shotgun, Handgun                                              1\n",
       "Semi-automatic Handgun, flame thrower                         1\n",
       "Semi-automatic Handgun, Rifle, Handgun                        1\n",
       "Semi-automatic Handgun, Rifle                                 1\n",
       "Rifle, Handgun                                                1\n",
       "Semi-automatic Rifle, Semi-automatic Handgun, H...            1\n",
       "Semi-automatic Handgun, Rifle, Handgun, Shotgun               1\n",
       "Semi-automatic Handgun, Rifle, Shotgun                        1\n",
       "Semi-automatic Handgun, Handgun, Shotgun                      1\n",
       "Semi-automatic Rifle, Semi-automatic Handgun, H...            1"
      ]
     },
     "execution_count": 228,
     "metadata": {},
     "output_type": "execute_result"
    }
   ],
   "source": [
    "weapon_freqs = df['Weapon Type'].value_counts()\n",
    "weapon_freqs.to_frame()\n",
    "# Would probably want to do some type of text searching to aggregate weapon types together as you had prior I believe"
   ]
  },
  {
   "cell_type": "code",
   "execution_count": 229,
   "metadata": {},
   "outputs": [
    {
     "data": {
      "text/plain": [
       "<matplotlib.axes._subplots.AxesSubplot at 0x1175ed128>"
      ]
     },
     "execution_count": 229,
     "metadata": {},
     "output_type": "execute_result"
    },
    {
     "data": {
      "image/png": "[encoded data removed]",
      "text/plain": [
       "<matplotlib.figure.Figure at 0x117606b70>"
      ]
     },
     "metadata": {},
     "output_type": "display_data"
    }
   ],
   "source": [
    "# More on colormaps here: https://matplotlib.org/tutorials/colors/colormaps.html\n",
    "# Basically took the first color in the colormap row since there is only one bar class I guess\n",
    "weapon_freqs.sort_values().plot(title='Weapons Used in U.S. Mass Shootings', \n",
    "                                kind='barh', figsize=(10, 12), colormap='tab10')"
   ]
  },
  {
   "cell_type": "code",
   "execution_count": 146,
   "metadata": {
    "_cell_guid": "776726e9-1d69-4bcb-8b5c-e6f91983e6b4",
    "_uuid": "6436d1998adb68f81dcbc91a3e5dacc7201936f2"
   },
   "outputs": [
    {
     "data": {
      "text/plain": [
       "California              19\n",
       "Texas                   15\n",
       "Washington              11\n",
       "Florida                  9\n",
       "Arizona                  7\n",
       "Wisconsin                6\n",
       "Georgia                  5\n",
       "Colorado                 5\n",
       "New York                 5\n",
       "Illinois                 5\n",
       "Kentucky                 4\n",
       "North Carolina           4\n",
       "Minnesota                3\n",
       "Connecticut              3\n",
       "Pennsylvania             3\n",
       "Michigan                 3\n",
       "Nevada                   3\n",
       "Oklahoma                 3\n",
       "Alabama                  2\n",
       "Missouri                 2\n",
       "Virginia                 2\n",
       "South Carolina           2\n",
       "Ohio                     2\n",
       "Oregon                   2\n",
       "Iowa                     1\n",
       "Maine                    1\n",
       "New Jersey               1\n",
       "Albuquerque              1\n",
       "West Virginia            1\n",
       "Kansas                   1\n",
       "Arkansas                 1\n",
       "Louisiana                1\n",
       "Montana                  1\n",
       "Nebraska                 1\n",
       "District of Columbia     1\n",
       "Hawaii                   1\n",
       "Massachusetts            1\n",
       "South Dakota             1\n",
       "Mississippi              1\n",
       "Utah                     1\n",
       "Tennessee                1\n",
       "Name: State, dtype: int64"
      ]
     },
     "execution_count": 146,
     "metadata": {},
     "output_type": "execute_result"
    }
   ],
   "source": [
    "states = df['State'].value_counts()\n",
    "states"
   ]
  },
  {
   "cell_type": "code",
   "execution_count": 230,
   "metadata": {},
   "outputs": [
    {
     "data": {
      "text/plain": [
       "<matplotlib.axes._subplots.AxesSubplot at 0x11792cac8>"
      ]
     },
     "execution_count": 230,
     "metadata": {},
     "output_type": "execute_result"
    },
    {
     "data": {
      "image/png": "[encoded data removed]",
      "text/plain": [
       "<matplotlib.figure.Figure at 0x117944080>"
      ]
     },
     "metadata": {},
     "output_type": "display_data"
    }
   ],
   "source": [
    "states.sort_values().plot.barh(figsize=(10, 12), colormap='tab10')"
   ]
  },
  {
   "cell_type": "code",
   "execution_count": 231,
   "metadata": {
    "_cell_guid": "7d7c9bc1-5620-4ba8-8b27-c21b5ad14bac",
    "_uuid": "fea36f4c59c88dcffe2d955248f83fd799648c00"
   },
   "outputs": [
    {
     "data": {
      "text/html": [
       "<div>\n",
       "<style scoped>\n",
       "    .dataframe tbody tr th:only-of-type {\n",
       "        vertical-align: middle;\n",
       "    }\n",
       "\n",
       "    .dataframe tbody tr th {\n",
       "        vertical-align: top;\n",
       "    }\n",
       "\n",
       "    .dataframe thead th {\n",
       "        text-align: right;\n",
       "    }\n",
       "</style>\n",
       "<table border=\"1\" class=\"dataframe\">\n",
       "  <thead>\n",
       "    <tr style=\"text-align: right;\">\n",
       "      <th></th>\n",
       "      <th>Mental Health Issues</th>\n",
       "    </tr>\n",
       "  </thead>\n",
       "  <tbody>\n",
       "    <tr>\n",
       "      <th>Yes</th>\n",
       "      <td>64</td>\n",
       "    </tr>\n",
       "    <tr>\n",
       "      <th>No</th>\n",
       "      <td>44</td>\n",
       "    </tr>\n",
       "    <tr>\n",
       "      <th>Unknown</th>\n",
       "      <td>26</td>\n",
       "    </tr>\n",
       "    <tr>\n",
       "      <th>Unclear</th>\n",
       "      <td>7</td>\n",
       "    </tr>\n",
       "    <tr>\n",
       "      <th>unknown</th>\n",
       "      <td>1</td>\n",
       "    </tr>\n",
       "  </tbody>\n",
       "</table>\n",
       "</div>"
      ],
      "text/plain": [
       "         Mental Health Issues\n",
       "Yes                        64\n",
       "No                         44\n",
       "Unknown                    26\n",
       "Unclear                     7\n",
       "unknown                     1"
      ]
     },
     "execution_count": 231,
     "metadata": {},
     "output_type": "execute_result"
    }
   ],
   "source": [
    "df['Mental Health Issues'].value_counts().to_frame()"
   ]
  },
  {
   "cell_type": "code",
   "execution_count": 237,
   "metadata": {},
   "outputs": [
    {
     "data": {
      "text/plain": [
       "<matplotlib.axes._subplots.AxesSubplot at 0x117d744e0>"
      ]
     },
     "execution_count": 237,
     "metadata": {},
     "output_type": "execute_result"
    },
    {
     "data": {
      "image/png": "[encoded data removed]",
      "text/plain": [
       "<matplotlib.figure.Figure at 0x117e131d0>"
      ]
     },
     "metadata": {},
     "output_type": "display_data"
    }
   ],
   "source": [
    "df['Mental Health Issues'].value_counts().sort_values().plot.barh(colormap='tab10')"
   ]
  }
 ],
 "metadata": {
  "kernelspec": {
   "display_name": "Python 3",
   "language": "python",
   "name": "python3"
  },
  "language_info": {
   "codemirror_mode": {
    "name": "ipython",
    "version": 3
   },
   "file_extension": ".py",
   "mimetype": "text/x-python",
   "name": "python",
   "nbconvert_exporter": "python",
   "pygments_lexer": "ipython3",
   "version": "3.6.3"
  }
 },
 "nbformat": 4,
 "nbformat_minor": 1
}
